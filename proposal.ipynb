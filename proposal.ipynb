{
 "cells": [
  {
   "attachments": {},
   "cell_type": "markdown",
   "metadata": {},
   "source": [
    "# Project Proposal"
   ]
  },
  {
   "attachments": {},
   "cell_type": "markdown",
   "metadata": {},
   "source": [
    "\n",
    "The dataset chosen for this project is News Headlines Dataset For Sarcasm Detection [1]. There are 3 fields in total i.e. headline (the textual news headline), article_link (the article link of the headline) and is_sarcastic (the target field that represents a headline being sarcastic or not i.e. 0 or 1). This dataset is obtained from Kaggle which was collected from 2 news websites, TheOnion and HuffPost. <br><br>\n",
    "The purpose of this project is to obtain an understanding of the way Natural Language Processing (NLP) works in the field of neural networks. This project aims to deal with NLP by implementing various embeddings such as Word2Vec, TF-IDF, and GloVe embedding. The next step would be to feed the embedding matrix as an input to different neural network architectures using RNN, LSTM and GRU (possibly Transformers and Bert). Throughout this process, we shall tune hyperparameters by experimenting with multiple optimizers, kernel initializers, batch sizes and normalization techniques. <br><br>\n",
    "Currently, the best accuracy model developed on Kaggle [2] brings 83% accuracy. We aim to use this existing solution as part of our exploration with the intent to optimize the neural network structure, reduce loss, and raise the accuracy of test sets, eventually obtain a better model with learned techniques and tools.\n",
    "\n"
   ]
  },
  {
   "attachments": {},
   "cell_type": "markdown",
   "metadata": {},
   "source": [
    "### References"
   ]
  },
  {
   "attachments": {},
   "cell_type": "markdown",
   "metadata": {},
   "source": [
    "[1] https://www.kaggle.com/datasets/rmisra/news-headlines-dataset-for-sarcasm-detection\n",
    "<br>\n",
    "[2] https://www.kaggle.com/code/madz2000/sarcasm-detection-with-glove-word2vec-83-accuracy/data\n"
   ]
  },
  {
   "cell_type": "markdown",
   "metadata": {},
   "source": []
  }
 ],
 "metadata": {
  "kernelspec": {
   "display_name": "tensorflow_cpu",
   "language": "python",
   "name": "python3"
  },
  "language_info": {
   "codemirror_mode": {
    "name": "ipython",
    "version": 3
   },
   "file_extension": ".py",
   "mimetype": "text/x-python",
   "name": "python",
   "nbconvert_exporter": "python",
   "pygments_lexer": "ipython3",
   "version": "3.10.9"
  },
  "orig_nbformat": 4,
  "vscode": {
   "interpreter": {
    "hash": "99beb0048c5f89e35e052af29271d74471a20f1d37b03c641c837dfea6a8b6bc"
   }
  }
 },
 "nbformat": 4,
 "nbformat_minor": 2
}
