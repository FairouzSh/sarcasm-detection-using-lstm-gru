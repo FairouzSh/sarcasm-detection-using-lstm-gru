{
 "cells": [
  {
   "cell_type": "markdown",
   "metadata": {},
   "source": [
    "# Introduction"
   ]
  },
  {
   "cell_type": "markdown",
   "metadata": {},
   "source": [
    "This notebook is inspired by text classification notebooks [1][2][3] in kaggle. A dataset consisting of sarcasm from various news headlines is observed. It consists of 3 columns, i.e. is_sarcastic, headlines, and article_link. We use text from headlines column to identify any unusual patterns to know if the headline is sarcastic or not. Since, the data is labeled, we split the data to later verify if our models perform well for any unseen data in future. After preprocessing and cleaning, we aim to use word embedding techniques that include:<br>-Glove<br>-Word2Vec <br>The word embeddings are used long with various model architectures of deep neural networks to find our an optimal one future predictions,including:<br> -LSTM<br>-GRU<br>In the end, we conclude by comparing the models and finding out which model performed the best on all subsets i.e.training, testing and validation sets."
   ]
  },
  {
   "cell_type": "markdown",
   "metadata": {},
   "source": [
    "# Exploratory Data Analysis"
   ]
  },
  {
   "cell_type": "markdown",
   "metadata": {
    "execution": {
     "iopub.execute_input": "2023-02-12T17:05:10.899429Z",
     "iopub.status.busy": "2023-02-12T17:05:10.898799Z",
     "iopub.status.idle": "2023-02-12T17:05:10.920748Z",
     "shell.execute_reply": "2023-02-12T17:05:10.919726Z",
     "shell.execute_reply.started": "2023-02-12T17:05:10.899330Z"
    }
   },
   "source": [
    "## Importing all required libraries"
   ]
  },
  {
   "cell_type": "code",
   "execution_count": 1,
   "metadata": {
    "execution": {
     "iopub.execute_input": "2023-02-13T04:20:20.289622Z",
     "iopub.status.busy": "2023-02-13T04:20:20.288987Z",
     "iopub.status.idle": "2023-02-13T04:20:22.518850Z",
     "shell.execute_reply": "2023-02-13T04:20:22.517792Z",
     "shell.execute_reply.started": "2023-02-13T04:20:20.289528Z"
    }
   },
   "outputs": [],
   "source": [
    "import pandas as pd\n",
    "import numpy as np\n",
    "import re\n",
    "import string\n",
    "import nltk\n",
    "from nltk.corpus import stopwords\n",
    "\n",
    "from numpy import array\n",
    "from keras.preprocessing import text,sequence\n",
    "from tensorflow.keras.preprocessing.sequence import pad_sequences\n",
    "from keras.models import Sequential\n",
    "from keras.layers import Dense, LSTM, Flatten, Dropout, GRU\n",
    "from tensorflow.keras.layers import Embedding\n",
    "from sklearn.model_selection import train_test_split\n",
    "from keras.preprocessing.text import Tokenizer\n",
    "\n",
    "import seaborn as sns\n",
    "import matplotlib.pyplot as plt\n",
    "%matplotlib inline\n",
    "\n",
    "import warnings\n",
    "warnings.filterwarnings(\"ignore\")"
   ]
  },
  {
   "cell_type": "markdown",
   "metadata": {},
   "source": [
    "## Reading Sarcasm dataset json file"
   ]
  },
  {
   "cell_type": "code",
   "execution_count": 2,
   "metadata": {
    "execution": {
     "iopub.execute_input": "2023-02-13T04:20:22.521225Z",
     "iopub.status.busy": "2023-02-13T04:20:22.520477Z",
     "iopub.status.idle": "2023-02-13T04:20:22.642953Z",
     "shell.execute_reply": "2023-02-13T04:20:22.641955Z",
     "shell.execute_reply.started": "2023-02-13T04:20:22.521186Z"
    }
   },
   "outputs": [],
   "source": [
    "df = pd.read_json('/kaggle/input/news-headlines-dataset-for-sarcasm-detection/Sarcasm_Headlines_Dataset_v2.json', lines=True)"
   ]
  },
  {
   "cell_type": "code",
   "execution_count": 3,
   "metadata": {
    "execution": {
     "iopub.execute_input": "2023-02-13T04:20:22.644921Z",
     "iopub.status.busy": "2023-02-13T04:20:22.644320Z",
     "iopub.status.idle": "2023-02-13T04:20:22.662815Z",
     "shell.execute_reply": "2023-02-13T04:20:22.661655Z",
     "shell.execute_reply.started": "2023-02-13T04:20:22.644865Z"
    }
   },
   "outputs": [
    {
     "name": "stdout",
     "output_type": "stream",
     "text": [
      "<class 'pandas.core.frame.DataFrame'>\n",
      "RangeIndex: 28619 entries, 0 to 28618\n",
      "Data columns (total 3 columns):\n",
      " #   Column        Non-Null Count  Dtype \n",
      "---  ------        --------------  ----- \n",
      " 0   is_sarcastic  28619 non-null  int64 \n",
      " 1   headline      28619 non-null  object\n",
      " 2   article_link  28619 non-null  object\n",
      "dtypes: int64(1), object(2)\n",
      "memory usage: 670.9+ KB\n"
     ]
    }
   ],
   "source": [
    "df.info()"
   ]
  },
  {
   "cell_type": "code",
   "execution_count": 4,
   "metadata": {
    "execution": {
     "iopub.execute_input": "2023-02-13T04:20:22.667581Z",
     "iopub.status.busy": "2023-02-13T04:20:22.666786Z",
     "iopub.status.idle": "2023-02-13T04:20:22.682236Z",
     "shell.execute_reply": "2023-02-13T04:20:22.680940Z",
     "shell.execute_reply.started": "2023-02-13T04:20:22.667548Z"
    }
   },
   "outputs": [
    {
     "data": {
      "text/html": [
       "<div>\n",
       "<style scoped>\n",
       "    .dataframe tbody tr th:only-of-type {\n",
       "        vertical-align: middle;\n",
       "    }\n",
       "\n",
       "    .dataframe tbody tr th {\n",
       "        vertical-align: top;\n",
       "    }\n",
       "\n",
       "    .dataframe thead th {\n",
       "        text-align: right;\n",
       "    }\n",
       "</style>\n",
       "<table border=\"1\" class=\"dataframe\">\n",
       "  <thead>\n",
       "    <tr style=\"text-align: right;\">\n",
       "      <th></th>\n",
       "      <th>is_sarcastic</th>\n",
       "      <th>headline</th>\n",
       "      <th>article_link</th>\n",
       "    </tr>\n",
       "  </thead>\n",
       "  <tbody>\n",
       "    <tr>\n",
       "      <th>0</th>\n",
       "      <td>1</td>\n",
       "      <td>thirtysomething scientists unveil doomsday clo...</td>\n",
       "      <td>https://www.theonion.com/thirtysomething-scien...</td>\n",
       "    </tr>\n",
       "    <tr>\n",
       "      <th>1</th>\n",
       "      <td>0</td>\n",
       "      <td>dem rep. totally nails why congress is falling...</td>\n",
       "      <td>https://www.huffingtonpost.com/entry/donna-edw...</td>\n",
       "    </tr>\n",
       "    <tr>\n",
       "      <th>2</th>\n",
       "      <td>0</td>\n",
       "      <td>eat your veggies: 9 deliciously different recipes</td>\n",
       "      <td>https://www.huffingtonpost.com/entry/eat-your-...</td>\n",
       "    </tr>\n",
       "    <tr>\n",
       "      <th>3</th>\n",
       "      <td>1</td>\n",
       "      <td>inclement weather prevents liar from getting t...</td>\n",
       "      <td>https://local.theonion.com/inclement-weather-p...</td>\n",
       "    </tr>\n",
       "    <tr>\n",
       "      <th>4</th>\n",
       "      <td>1</td>\n",
       "      <td>mother comes pretty close to using word 'strea...</td>\n",
       "      <td>https://www.theonion.com/mother-comes-pretty-c...</td>\n",
       "    </tr>\n",
       "  </tbody>\n",
       "</table>\n",
       "</div>"
      ],
      "text/plain": [
       "   is_sarcastic                                           headline  \\\n",
       "0             1  thirtysomething scientists unveil doomsday clo...   \n",
       "1             0  dem rep. totally nails why congress is falling...   \n",
       "2             0  eat your veggies: 9 deliciously different recipes   \n",
       "3             1  inclement weather prevents liar from getting t...   \n",
       "4             1  mother comes pretty close to using word 'strea...   \n",
       "\n",
       "                                        article_link  \n",
       "0  https://www.theonion.com/thirtysomething-scien...  \n",
       "1  https://www.huffingtonpost.com/entry/donna-edw...  \n",
       "2  https://www.huffingtonpost.com/entry/eat-your-...  \n",
       "3  https://local.theonion.com/inclement-weather-p...  \n",
       "4  https://www.theonion.com/mother-comes-pretty-c...  "
      ]
     },
     "execution_count": 4,
     "metadata": {},
     "output_type": "execute_result"
    }
   ],
   "source": [
    "df.head()"
   ]
  },
  {
   "cell_type": "code",
   "execution_count": 5,
   "metadata": {
    "execution": {
     "iopub.execute_input": "2023-02-13T04:20:22.684261Z",
     "iopub.status.busy": "2023-02-13T04:20:22.683706Z",
     "iopub.status.idle": "2023-02-13T04:20:22.696651Z",
     "shell.execute_reply": "2023-02-13T04:20:22.695538Z",
     "shell.execute_reply.started": "2023-02-13T04:20:22.684232Z"
    }
   },
   "outputs": [
    {
     "data": {
      "text/plain": [
       "is_sarcastic    0\n",
       "headline        0\n",
       "article_link    0\n",
       "dtype: int64"
      ]
     },
     "execution_count": 5,
     "metadata": {},
     "output_type": "execute_result"
    }
   ],
   "source": [
    "df.isna().sum() # Checking for NaN values"
   ]
  },
  {
   "cell_type": "code",
   "execution_count": 6,
   "metadata": {
    "execution": {
     "iopub.execute_input": "2023-02-13T04:20:22.698651Z",
     "iopub.status.busy": "2023-02-13T04:20:22.698260Z",
     "iopub.status.idle": "2023-02-13T04:20:22.707240Z",
     "shell.execute_reply": "2023-02-13T04:20:22.706139Z",
     "shell.execute_reply.started": "2023-02-13T04:20:22.698616Z"
    }
   },
   "outputs": [
    {
     "data": {
      "text/plain": [
       "array([1, 0])"
      ]
     },
     "execution_count": 6,
     "metadata": {},
     "output_type": "execute_result"
    }
   ],
   "source": [
    "df.is_sarcastic.unique()"
   ]
  },
  {
   "cell_type": "code",
   "execution_count": 7,
   "metadata": {
    "execution": {
     "iopub.execute_input": "2023-02-13T04:20:22.709407Z",
     "iopub.status.busy": "2023-02-13T04:20:22.708548Z",
     "iopub.status.idle": "2023-02-13T04:20:22.889808Z",
     "shell.execute_reply": "2023-02-13T04:20:22.888789Z",
     "shell.execute_reply.started": "2023-02-13T04:20:22.709372Z"
    }
   },
   "outputs": [
    {
     "data": {
      "text/plain": [
       "<AxesSubplot:xlabel='is_sarcastic', ylabel='count'>"
      ]
     },
     "execution_count": 7,
     "metadata": {},
     "output_type": "execute_result"
    },
    {
     "data": {
      "image/png": "[encoded data removed]",
      "text/plain": [
       "<Figure size 432x288 with 1 Axes>"
      ]
     },
     "metadata": {
      "needs_background": "light"
     },
     "output_type": "display_data"
    }
   ],
   "source": [
    "sns.countplot(x='is_sarcastic', data=df)"
   ]
  },
  {
   "cell_type": "markdown",
   "metadata": {},
   "source": [
    "# Preprocess the dataset"
   ]
  },
  {
   "cell_type": "markdown",
   "metadata": {},
   "source": [
    "## Preprocessing Function the textual column for cleaning"
   ]
  },
  {
   "cell_type": "code",
   "execution_count": 8,
   "metadata": {
    "execution": {
     "iopub.execute_input": "2023-02-13T04:20:22.892882Z",
     "iopub.status.busy": "2023-02-13T04:20:22.892190Z",
     "iopub.status.idle": "2023-02-13T04:20:22.902755Z",
     "shell.execute_reply": "2023-02-13T04:20:22.901739Z",
     "shell.execute_reply.started": "2023-02-13T04:20:22.892835Z"
    }
   },
   "outputs": [],
   "source": [
    "stop_words = stopwords.words('english') #English language's stop words\n",
    "\n",
    "def textpreprocess(s):\n",
    "    \"\"\"This function cleans the text\n",
    "    Input: string to be cleaned\n",
    "    Return: string after cleaning\n",
    "    \"\"\"\n",
    "    words = [] # empty list\n",
    "    \n",
    "    s = s.strip().lower() # lower the string\n",
    "    s = re.sub('\\[.*?\\]', '', s) # removes symbols (.*?\\)\n",
    "    s = re.sub('https?://\\S+|www\\.\\S+', '', s) # remove URLS\n",
    "    s = re.sub('<.*?>+', '', s)\n",
    "    s = re.sub('[%s]' % re.escape(string.punctuation), '', s) # remove punctuations\n",
    "    s = re.sub('\\n', '', s) # remove next line character\n",
    "    s = re.sub('\\w*\\d\\w*', '', s)\n",
    "    \n",
    "    words = s.split() # split the string into list of words\n",
    "    words = [word for word in words if word not in stop_words] # removing stop words\n",
    "    s = ' '.join(words) # converting list to string\n",
    "    \n",
    "    return s"
   ]
  },
  {
   "cell_type": "markdown",
   "metadata": {},
   "source": [
    "## Apply preprocessing function to all the rows"
   ]
  },
  {
   "cell_type": "code",
   "execution_count": 9,
   "metadata": {
    "execution": {
     "iopub.execute_input": "2023-02-13T04:20:22.904902Z",
     "iopub.status.busy": "2023-02-13T04:20:22.904487Z",
     "iopub.status.idle": "2023-02-13T04:20:24.081528Z",
     "shell.execute_reply": "2023-02-13T04:20:24.080487Z",
     "shell.execute_reply.started": "2023-02-13T04:20:22.904860Z"
    }
   },
   "outputs": [],
   "source": [
    "X = []\n",
    "sentences = list(df['headline'])\n",
    "for sen in sentences:\n",
    "    X.append(textpreprocess(sen))"
   ]
  },
  {
   "cell_type": "code",
   "execution_count": 10,
   "metadata": {
    "execution": {
     "iopub.execute_input": "2023-02-13T04:20:24.084128Z",
     "iopub.status.busy": "2023-02-13T04:20:24.083114Z",
     "iopub.status.idle": "2023-02-13T04:20:24.091359Z",
     "shell.execute_reply": "2023-02-13T04:20:24.090323Z",
     "shell.execute_reply.started": "2023-02-13T04:20:24.084084Z"
    },
    "scrolled": true
   },
   "outputs": [
    {
     "data": {
      "text/plain": [
       "'ways file taxes less stress'"
      ]
     },
     "execution_count": 10,
     "metadata": {},
     "output_type": "execute_result"
    }
   ],
   "source": [
    "X[6]"
   ]
  },
  {
   "cell_type": "code",
   "execution_count": 11,
   "metadata": {
    "execution": {
     "iopub.execute_input": "2023-02-13T04:20:24.093861Z",
     "iopub.status.busy": "2023-02-13T04:20:24.093343Z",
     "iopub.status.idle": "2023-02-13T04:20:24.100857Z",
     "shell.execute_reply": "2023-02-13T04:20:24.099772Z",
     "shell.execute_reply.started": "2023-02-13T04:20:24.093826Z"
    }
   },
   "outputs": [],
   "source": [
    "y=df['is_sarcastic']"
   ]
  },
  {
   "cell_type": "markdown",
   "metadata": {},
   "source": [
    "## Split data into train, test and validation sets"
   ]
  },
  {
   "cell_type": "code",
   "execution_count": 12,
   "metadata": {
    "execution": {
     "iopub.execute_input": "2023-02-13T04:20:24.103385Z",
     "iopub.status.busy": "2023-02-13T04:20:24.102955Z",
     "iopub.status.idle": "2023-02-13T04:20:24.123709Z",
     "shell.execute_reply": "2023-02-13T04:20:24.122745Z",
     "shell.execute_reply.started": "2023-02-13T04:20:24.103350Z"
    }
   },
   "outputs": [],
   "source": [
    "X_train_val, X_test, y_train_val, y_test = train_test_split(X, y, test_size=0.20, random_state=42)\n",
    "X_train, X_val, y_train, y_val = train_test_split(X, y, test_size=0.20, random_state=42)"
   ]
  },
  {
   "cell_type": "markdown",
   "metadata": {},
   "source": [
    "## Tokenization"
   ]
  },
  {
   "cell_type": "markdown",
   "metadata": {},
   "source": [
    "Tokenization of sentences, with 5000 words, skipping words that are out of vocabulary"
   ]
  },
  {
   "cell_type": "code",
   "execution_count": 13,
   "metadata": {
    "execution": {
     "iopub.execute_input": "2023-02-13T04:20:24.128883Z",
     "iopub.status.busy": "2023-02-13T04:20:24.128622Z",
     "iopub.status.idle": "2023-02-13T04:20:24.841701Z",
     "shell.execute_reply": "2023-02-13T04:20:24.840667Z",
     "shell.execute_reply.started": "2023-02-13T04:20:24.128858Z"
    }
   },
   "outputs": [],
   "source": [
    "# hyperparameters\n",
    "num_words_ = 5000\n",
    "oov_tok = \"<OOV>\"\n",
    "\n",
    "tokenizer = Tokenizer(num_words=num_words_, oov_token=oov_tok)\n",
    "tokenizer.fit_on_texts(X_train)\n",
    "\n",
    "\n",
    "#converting text to sequences\n",
    "X_train = tokenizer.texts_to_sequences(X_train)\n",
    "X_val = tokenizer.texts_to_sequences(X_val)\n",
    "X_test = tokenizer.texts_to_sequences(X_test)"
   ]
  },
  {
   "cell_type": "markdown",
   "metadata": {},
   "source": [
    "## Padding sequences for equal length"
   ]
  },
  {
   "cell_type": "code",
   "execution_count": 14,
   "metadata": {
    "execution": {
     "iopub.execute_input": "2023-02-13T04:20:24.844010Z",
     "iopub.status.busy": "2023-02-13T04:20:24.843172Z",
     "iopub.status.idle": "2023-02-13T04:20:24.947485Z",
     "shell.execute_reply": "2023-02-13T04:20:24.946312Z",
     "shell.execute_reply.started": "2023-02-13T04:20:24.843971Z"
    }
   },
   "outputs": [],
   "source": [
    "vocab_size = len(tokenizer.word_index)\n",
    "\n",
    "maxlen = 150\n",
    "trunc_type='post'\n",
    "padding_type='post'\n",
    "\n",
    "X_train = pad_sequences(X_train, maxlen=maxlen, truncating= trunc_type, padding=padding_type)\n",
    "X_val = pad_sequences(X_val, maxlen=maxlen , padding='post')\n",
    "X_test = pad_sequences(X_test, maxlen=maxlen, padding='post')"
   ]
  },
  {
   "cell_type": "markdown",
   "metadata": {},
   "source": [
    "# Deep Neural Networks"
   ]
  },
  {
   "cell_type": "markdown",
   "metadata": {},
   "source": [
    "## Model1: Creating initial baseline model architecture, with embedding layer"
   ]
  },
  {
   "cell_type": "markdown",
   "metadata": {},
   "source": [
    "### Model Architecture"
   ]
  },
  {
   "cell_type": "code",
   "execution_count": 15,
   "metadata": {
    "execution": {
     "iopub.execute_input": "2023-02-13T04:20:24.949644Z",
     "iopub.status.busy": "2023-02-13T04:20:24.949236Z",
     "iopub.status.idle": "2023-02-13T04:20:27.363220Z",
     "shell.execute_reply": "2023-02-13T04:20:27.362293Z",
     "shell.execute_reply.started": "2023-02-13T04:20:24.949604Z"
    }
   },
   "outputs": [
    {
     "name": "stderr",
     "output_type": "stream",
     "text": [
      "2023-02-13 04:20:25.042845: I tensorflow/stream_executor/cuda/cuda_gpu_executor.cc:937] successful NUMA node read from SysFS had negative value (-1), but there must be at least one NUMA node, so returning NUMA node zero\n",
      "2023-02-13 04:20:25.043818: I tensorflow/stream_executor/cuda/cuda_gpu_executor.cc:937] successful NUMA node read from SysFS had negative value (-1), but there must be at least one NUMA node, so returning NUMA node zero\n",
      "2023-02-13 04:20:25.053275: I tensorflow/stream_executor/cuda/cuda_gpu_executor.cc:937] successful NUMA node read from SysFS had negative value (-1), but there must be at least one NUMA node, so returning NUMA node zero\n",
      "2023-02-13 04:20:25.054113: I tensorflow/stream_executor/cuda/cuda_gpu_executor.cc:937] successful NUMA node read from SysFS had negative value (-1), but there must be at least one NUMA node, so returning NUMA node zero\n",
      "2023-02-13 04:20:25.054822: I tensorflow/stream_executor/cuda/cuda_gpu_executor.cc:937] successful NUMA node read from SysFS had negative value (-1), but there must be at least one NUMA node, so returning NUMA node zero\n",
      "2023-02-13 04:20:25.055606: I tensorflow/stream_executor/cuda/cuda_gpu_executor.cc:937] successful NUMA node read from SysFS had negative value (-1), but there must be at least one NUMA node, so returning NUMA node zero\n",
      "2023-02-13 04:20:25.057738: I tensorflow/core/platform/cpu_feature_guard.cc:142] This TensorFlow binary is optimized with oneAPI Deep Neural Network Library (oneDNN) to use the following CPU instructions in performance-critical operations:  AVX2 AVX512F FMA\n",
      "To enable them in other operations, rebuild TensorFlow with the appropriate compiler flags.\n",
      "2023-02-13 04:20:25.273065: I tensorflow/stream_executor/cuda/cuda_gpu_executor.cc:937] successful NUMA node read from SysFS had negative value (-1), but there must be at least one NUMA node, so returning NUMA node zero\n",
      "2023-02-13 04:20:25.273893: I tensorflow/stream_executor/cuda/cuda_gpu_executor.cc:937] successful NUMA node read from SysFS had negative value (-1), but there must be at least one NUMA node, so returning NUMA node zero\n",
      "2023-02-13 04:20:25.274675: I tensorflow/stream_executor/cuda/cuda_gpu_executor.cc:937] successful NUMA node read from SysFS had negative value (-1), but there must be at least one NUMA node, so returning NUMA node zero\n",
      "2023-02-13 04:20:25.275378: I tensorflow/stream_executor/cuda/cuda_gpu_executor.cc:937] successful NUMA node read from SysFS had negative value (-1), but there must be at least one NUMA node, so returning NUMA node zero\n",
      "2023-02-13 04:20:25.276063: I tensorflow/stream_executor/cuda/cuda_gpu_executor.cc:937] successful NUMA node read from SysFS had negative value (-1), but there must be at least one NUMA node, so returning NUMA node zero\n",
      "2023-02-13 04:20:25.276749: I tensorflow/stream_executor/cuda/cuda_gpu_executor.cc:937] successful NUMA node read from SysFS had negative value (-1), but there must be at least one NUMA node, so returning NUMA node zero\n",
      "2023-02-13 04:20:26.497416: I tensorflow/stream_executor/cuda/cuda_gpu_executor.cc:937] successful NUMA node read from SysFS had negative value (-1), but there must be at least one NUMA node, so returning NUMA node zero\n",
      "2023-02-13 04:20:26.498723: I tensorflow/stream_executor/cuda/cuda_gpu_executor.cc:937] successful NUMA node read from SysFS had negative value (-1), but there must be at least one NUMA node, so returning NUMA node zero\n",
      "2023-02-13 04:20:26.499932: I tensorflow/stream_executor/cuda/cuda_gpu_executor.cc:937] successful NUMA node read from SysFS had negative value (-1), but there must be at least one NUMA node, so returning NUMA node zero\n",
      "2023-02-13 04:20:26.501185: I tensorflow/stream_executor/cuda/cuda_gpu_executor.cc:937] successful NUMA node read from SysFS had negative value (-1), but there must be at least one NUMA node, so returning NUMA node zero\n",
      "2023-02-13 04:20:26.502357: I tensorflow/stream_executor/cuda/cuda_gpu_executor.cc:937] successful NUMA node read from SysFS had negative value (-1), but there must be at least one NUMA node, so returning NUMA node zero\n",
      "2023-02-13 04:20:26.503426: I tensorflow/core/common_runtime/gpu/gpu_device.cc:1510] Created device /job:localhost/replica:0/task:0/device:GPU:0 with 13789 MB memory:  -> device: 0, name: Tesla T4, pci bus id: 0000:00:04.0, compute capability: 7.5\n",
      "2023-02-13 04:20:26.504057: I tensorflow/stream_executor/cuda/cuda_gpu_executor.cc:937] successful NUMA node read from SysFS had negative value (-1), but there must be at least one NUMA node, so returning NUMA node zero\n",
      "2023-02-13 04:20:26.505023: I tensorflow/core/common_runtime/gpu/gpu_device.cc:1510] Created device /job:localhost/replica:0/task:0/device:GPU:1 with 13789 MB memory:  -> device: 1, name: Tesla T4, pci bus id: 0000:00:05.0, compute capability: 7.5\n"
     ]
    }
   ],
   "source": [
    "model1 = Sequential()\n",
    "embedding_layer = Embedding(vocab_size, 50, input_length=maxlen , trainable=True)\n",
    "model1.add(embedding_layer)\n",
    "model1.add(LSTM(64,return_sequences=True))\n",
    "model1.add(LSTM(64,return_sequences=True))\n",
    "model1.add(Dense(1, activation='sigmoid'))"
   ]
  },
  {
   "cell_type": "markdown",
   "metadata": {},
   "source": [
    "### Compile the model"
   ]
  },
  {
   "cell_type": "code",
   "execution_count": 16,
   "metadata": {
    "execution": {
     "iopub.execute_input": "2023-02-13T04:20:27.365612Z",
     "iopub.status.busy": "2023-02-13T04:20:27.364927Z",
     "iopub.status.idle": "2023-02-13T04:20:27.379961Z",
     "shell.execute_reply": "2023-02-13T04:20:27.378945Z",
     "shell.execute_reply.started": "2023-02-13T04:20:27.365573Z"
    }
   },
   "outputs": [
    {
     "name": "stdout",
     "output_type": "stream",
     "text": [
      "Model: \"sequential\"\n",
      "_________________________________________________________________\n",
      "Layer (type)                 Output Shape              Param #   \n",
      "=================================================================\n",
      "embedding (Embedding)        (None, 150, 50)           1286700   \n",
      "_________________________________________________________________\n",
      "lstm (LSTM)                  (None, 150, 64)           29440     \n",
      "_________________________________________________________________\n",
      "lstm_1 (LSTM)                (None, 150, 64)           33024     \n",
      "_________________________________________________________________\n",
      "dense (Dense)                (None, 150, 1)            65        \n",
      "=================================================================\n",
      "Total params: 1,349,229\n",
      "Trainable params: 1,349,229\n",
      "Non-trainable params: 0\n",
      "_________________________________________________________________\n",
      "None\n"
     ]
    }
   ],
   "source": [
    "model1.compile(optimizer='nadam', loss='binary_crossentropy', metrics=['accuracy'])\n",
    "\n",
    "print(model1.summary())"
   ]
  },
  {
   "cell_type": "markdown",
   "metadata": {},
   "source": [
    "### Model training"
   ]
  },
  {
   "cell_type": "code",
   "execution_count": 17,
   "metadata": {
    "execution": {
     "iopub.execute_input": "2023-02-13T04:20:27.383919Z",
     "iopub.status.busy": "2023-02-13T04:20:27.383636Z",
     "iopub.status.idle": "2023-02-13T04:20:53.567864Z",
     "shell.execute_reply": "2023-02-13T04:20:53.566951Z",
     "shell.execute_reply.started": "2023-02-13T04:20:27.383875Z"
    },
    "scrolled": true
   },
   "outputs": [
    {
     "name": "stderr",
     "output_type": "stream",
     "text": [
      "2023-02-13 04:20:27.611085: I tensorflow/compiler/mlir/mlir_graph_optimization_pass.cc:185] None of the MLIR Optimization Passes are enabled (registered 2)\n"
     ]
    },
    {
     "name": "stdout",
     "output_type": "stream",
     "text": [
      "Epoch 1/5\n"
     ]
    },
    {
     "name": "stderr",
     "output_type": "stream",
     "text": [
      "2023-02-13 04:20:30.993400: I tensorflow/stream_executor/cuda/cuda_dnn.cc:369] Loaded cuDNN version 8005\n"
     ]
    },
    {
     "name": "stdout",
     "output_type": "stream",
     "text": [
      "179/179 [==============================] - 9s 26ms/step - loss: 0.6952 - accuracy: 0.5364 - val_loss: 0.6776 - val_accuracy: 0.5208\n",
      "Epoch 2/5\n",
      "179/179 [==============================] - 4s 24ms/step - loss: 0.5479 - accuracy: 0.7461 - val_loss: 0.5430 - val_accuracy: 0.7549\n",
      "Epoch 3/5\n",
      "179/179 [==============================] - 4s 22ms/step - loss: 0.4503 - accuracy: 0.8103 - val_loss: 0.4744 - val_accuracy: 0.7840\n",
      "Epoch 4/5\n",
      "179/179 [==============================] - 5s 27ms/step - loss: 0.3925 - accuracy: 0.8368 - val_loss: 0.6755 - val_accuracy: 0.6864\n",
      "Epoch 5/5\n",
      "179/179 [==============================] - 4s 22ms/step - loss: 0.4170 - accuracy: 0.8189 - val_loss: 0.4713 - val_accuracy: 0.7812\n"
     ]
    }
   ],
   "source": [
    "history1 = model1.fit(X_train, y_train, batch_size=128, epochs=5, verbose=1, validation_data=(X_val, y_val))"
   ]
  },
  {
   "cell_type": "markdown",
   "metadata": {},
   "source": [
    "### Predicting on Test set"
   ]
  },
  {
   "cell_type": "code",
   "execution_count": 18,
   "metadata": {
    "execution": {
     "iopub.execute_input": "2023-02-13T04:20:53.569798Z",
     "iopub.status.busy": "2023-02-13T04:20:53.569393Z",
     "iopub.status.idle": "2023-02-13T04:20:55.391045Z",
     "shell.execute_reply": "2023-02-13T04:20:55.389984Z",
     "shell.execute_reply.started": "2023-02-13T04:20:53.569759Z"
    }
   },
   "outputs": [
    {
     "name": "stdout",
     "output_type": "stream",
     "text": [
      "test auc: 0.7776165968564929\n"
     ]
    }
   ],
   "source": [
    "from sklearn.metrics import roc_auc_score, accuracy_score\n",
    "\n",
    "output_test = model1.predict(X_test)\n",
    "print(\"test auc:\", roc_auc_score(y_test,output_test[:,1])) #77%"
   ]
  },
  {
   "cell_type": "markdown",
   "metadata": {},
   "source": [
    "### Check Loss and accuracy for Training and validation sets"
   ]
  },
  {
   "cell_type": "code",
   "execution_count": 19,
   "metadata": {
    "execution": {
     "iopub.execute_input": "2023-02-13T04:20:55.393190Z",
     "iopub.status.busy": "2023-02-13T04:20:55.392515Z",
     "iopub.status.idle": "2023-02-13T04:20:55.615766Z",
     "shell.execute_reply": "2023-02-13T04:20:55.614794Z",
     "shell.execute_reply.started": "2023-02-13T04:20:55.393150Z"
    }
   },
   "outputs": [
    {
     "data": {
      "image/png": "[encoded data removed]",
      "text/plain": [
       "<Figure size 432x288 with 1 Axes>"
      ]
     },
     "metadata": {
      "needs_background": "light"
     },
     "output_type": "display_data"
    }
   ],
   "source": [
    "plt.subplots()\n",
    "plt.plot(history1.history['accuracy'])\n",
    "plt.plot(history1.history['val_accuracy'])\n",
    "plt.title('model accuracy')\n",
    "plt.ylabel('accuracy')\n",
    "plt.xlabel('epoch')\n",
    "plt.legend(['train', 'validation'])\n",
    "plt.show()"
   ]
  },
  {
   "cell_type": "code",
   "execution_count": 20,
   "metadata": {
    "execution": {
     "iopub.execute_input": "2023-02-13T04:20:55.617990Z",
     "iopub.status.busy": "2023-02-13T04:20:55.617328Z",
     "iopub.status.idle": "2023-02-13T04:20:55.839526Z",
     "shell.execute_reply": "2023-02-13T04:20:55.838660Z",
     "shell.execute_reply.started": "2023-02-13T04:20:55.617952Z"
    }
   },
   "outputs": [
    {
     "data": {
      "image/png": "[encoded data removed]",
      "text/plain": [
       "<Figure size 432x288 with 1 Axes>"
      ]
     },
     "metadata": {
      "needs_background": "light"
     },
     "output_type": "display_data"
    }
   ],
   "source": [
    "plt.subplots() \n",
    "plt.plot(history1.history['loss'])\n",
    "plt.plot(history1.history['val_loss'])\n",
    "plt.title('model loss')\n",
    "plt.ylabel('loss')\n",
    "plt.xlabel('epoch')\n",
    "plt.legend(['train', 'validation'])\n",
    "plt.show()"
   ]
  },
  {
   "cell_type": "markdown",
   "metadata": {
    "execution": {
     "iopub.execute_input": "2023-02-12T17:54:09.296117Z",
     "iopub.status.busy": "2023-02-12T17:54:09.295405Z",
     "iopub.status.idle": "2023-02-12T17:54:09.300252Z",
     "shell.execute_reply": "2023-02-12T17:54:09.299236Z",
     "shell.execute_reply.started": "2023-02-12T17:54:09.296079Z"
    }
   },
   "source": [
    "##### Test accuracy is 77% which is okay for our first model. But our model seems to be overfitting after a certain number of epochs."
   ]
  },
  {
   "cell_type": "markdown",
   "metadata": {},
   "source": [
    "## Model2: Creating a Model using Glove 50 dimension embedding"
   ]
  },
  {
   "cell_type": "code",
   "execution_count": 21,
   "metadata": {
    "execution": {
     "iopub.execute_input": "2023-02-13T04:20:55.841394Z",
     "iopub.status.busy": "2023-02-13T04:20:55.840999Z",
     "iopub.status.idle": "2023-02-13T04:21:00.211661Z",
     "shell.execute_reply": "2023-02-13T04:21:00.210621Z",
     "shell.execute_reply.started": "2023-02-13T04:20:55.841351Z"
    }
   },
   "outputs": [],
   "source": [
    "from numpy import array\n",
    "from numpy import asarray\n",
    "from numpy import zeros\n",
    "\n",
    "embeddings_dictionary = dict()\n",
    "glove_file = open('/kaggle/input/glove6b50dtxt/glove.6B.50d.txt', encoding=\"utf8\")\n",
    "\n",
    "for line in glove_file:\n",
    "    records = line.split()\n",
    "    word = records[0]\n",
    "    vector_dimensions = asarray(records[1:], dtype='float32')\n",
    "    embeddings_dictionary [word] = vector_dimensions\n",
    "glove_file.close()\n",
    "\n",
    "vocab_size = len(tokenizer.word_index)+1\n",
    "\n",
    "#creating a embedding matrix for initial weights based on the precreated glove embedding\n",
    "\n",
    "embedding_matrix = zeros((vocab_size, 50))\n",
    "for word, index in tokenizer.word_index.items():\n",
    "    embedding_vector = embeddings_dictionary.get(word)\n",
    "    if embedding_vector is not None:\n",
    "        embedding_matrix[index] = embedding_vector\n"
   ]
  },
  {
   "cell_type": "markdown",
   "metadata": {},
   "source": [
    "### Model Architecture"
   ]
  },
  {
   "cell_type": "code",
   "execution_count": 22,
   "metadata": {
    "execution": {
     "iopub.execute_input": "2023-02-13T04:21:00.213370Z",
     "iopub.status.busy": "2023-02-13T04:21:00.212995Z",
     "iopub.status.idle": "2023-02-13T04:21:00.639328Z",
     "shell.execute_reply": "2023-02-13T04:21:00.638365Z",
     "shell.execute_reply.started": "2023-02-13T04:21:00.213332Z"
    }
   },
   "outputs": [],
   "source": [
    "model2 = Sequential()\n",
    "embedding_layer = Embedding(vocab_size, 50, weights=[embedding_matrix], input_length=maxlen , trainable=False)\n",
    "model2.add(embedding_layer)\n",
    "model2.add(LSTM(64,return_sequences=True))\n",
    "model2.add(LSTM(64,return_sequences=True))\n",
    "model2.add(Dense(1, activation='sigmoid'))"
   ]
  },
  {
   "cell_type": "markdown",
   "metadata": {},
   "source": [
    "### Compile the model"
   ]
  },
  {
   "cell_type": "code",
   "execution_count": 23,
   "metadata": {
    "execution": {
     "iopub.execute_input": "2023-02-13T04:21:00.640961Z",
     "iopub.status.busy": "2023-02-13T04:21:00.640597Z",
     "iopub.status.idle": "2023-02-13T04:21:00.653717Z",
     "shell.execute_reply": "2023-02-13T04:21:00.652714Z",
     "shell.execute_reply.started": "2023-02-13T04:21:00.640924Z"
    }
   },
   "outputs": [
    {
     "name": "stdout",
     "output_type": "stream",
     "text": [
      "Model: \"sequential_1\"\n",
      "_________________________________________________________________\n",
      "Layer (type)                 Output Shape              Param #   \n",
      "=================================================================\n",
      "embedding_1 (Embedding)      (None, 150, 50)           1286750   \n",
      "_________________________________________________________________\n",
      "lstm_2 (LSTM)                (None, 150, 64)           29440     \n",
      "_________________________________________________________________\n",
      "lstm_3 (LSTM)                (None, 150, 64)           33024     \n",
      "_________________________________________________________________\n",
      "dense_1 (Dense)              (None, 150, 1)            65        \n",
      "=================================================================\n",
      "Total params: 1,349,279\n",
      "Trainable params: 62,529\n",
      "Non-trainable params: 1,286,750\n",
      "_________________________________________________________________\n",
      "None\n"
     ]
    }
   ],
   "source": [
    "model2.compile(optimizer='nadam', loss='binary_crossentropy', metrics=['accuracy'])\n",
    "\n",
    "print(model2.summary())"
   ]
  },
  {
   "cell_type": "markdown",
   "metadata": {},
   "source": [
    "### Model Training"
   ]
  },
  {
   "cell_type": "markdown",
   "metadata": {},
   "source": [
    "##### In addition, we also increase number of epochs to see the big picture, incase model is converging later "
   ]
  },
  {
   "cell_type": "code",
   "execution_count": 24,
   "metadata": {
    "execution": {
     "iopub.execute_input": "2023-02-13T04:21:00.656365Z",
     "iopub.status.busy": "2023-02-13T04:21:00.655317Z",
     "iopub.status.idle": "2023-02-13T04:24:31.894613Z",
     "shell.execute_reply": "2023-02-13T04:24:31.893604Z",
     "shell.execute_reply.started": "2023-02-13T04:21:00.656329Z"
    },
    "scrolled": true
   },
   "outputs": [
    {
     "name": "stdout",
     "output_type": "stream",
     "text": [
      "Epoch 1/50\n",
      "179/179 [==============================] - 8s 25ms/step - loss: 0.6265 - accuracy: 0.6506 - val_loss: 0.6258 - val_accuracy: 0.6900\n",
      "Epoch 2/50\n",
      "179/179 [==============================] - 4s 23ms/step - loss: 0.5692 - accuracy: 0.7116 - val_loss: 0.5556 - val_accuracy: 0.7170\n",
      "Epoch 3/50\n",
      "179/179 [==============================] - 4s 22ms/step - loss: 0.5387 - accuracy: 0.7344 - val_loss: 0.5239 - val_accuracy: 0.7402\n",
      "Epoch 4/50\n",
      "179/179 [==============================] - 4s 24ms/step - loss: 0.5172 - accuracy: 0.7480 - val_loss: 0.5050 - val_accuracy: 0.7479\n",
      "Epoch 5/50\n",
      "179/179 [==============================] - 4s 23ms/step - loss: 0.5120 - accuracy: 0.7501 - val_loss: 0.5195 - val_accuracy: 0.7392\n",
      "Epoch 6/50\n",
      "179/179 [==============================] - 4s 21ms/step - loss: 0.4935 - accuracy: 0.7665 - val_loss: 0.5583 - val_accuracy: 0.7276\n",
      "Epoch 7/50\n",
      "179/179 [==============================] - 4s 21ms/step - loss: 0.4799 - accuracy: 0.7706 - val_loss: 0.4992 - val_accuracy: 0.7551\n",
      "Epoch 8/50\n",
      "179/179 [==============================] - 4s 23ms/step - loss: 0.4914 - accuracy: 0.7656 - val_loss: 0.5171 - val_accuracy: 0.7447\n",
      "Epoch 9/50\n",
      "179/179 [==============================] - 4s 21ms/step - loss: 0.4670 - accuracy: 0.7788 - val_loss: 0.4936 - val_accuracy: 0.7587\n",
      "Epoch 10/50\n",
      "179/179 [==============================] - 4s 23ms/step - loss: 0.4578 - accuracy: 0.7841 - val_loss: 0.5242 - val_accuracy: 0.7615\n",
      "Epoch 11/50\n",
      "179/179 [==============================] - 4s 21ms/step - loss: 0.4548 - accuracy: 0.7855 - val_loss: 0.4817 - val_accuracy: 0.7596\n",
      "Epoch 12/50\n",
      "179/179 [==============================] - 4s 24ms/step - loss: 0.4314 - accuracy: 0.8017 - val_loss: 0.4844 - val_accuracy: 0.7606\n",
      "Epoch 13/50\n",
      "179/179 [==============================] - 4s 22ms/step - loss: 0.4257 - accuracy: 0.8057 - val_loss: 0.4746 - val_accuracy: 0.7663\n",
      "Epoch 14/50\n",
      "179/179 [==============================] - 4s 22ms/step - loss: 0.4224 - accuracy: 0.8086 - val_loss: 0.5222 - val_accuracy: 0.7461\n",
      "Epoch 15/50\n",
      "179/179 [==============================] - 4s 21ms/step - loss: 0.5818 - accuracy: 0.6745 - val_loss: 0.6811 - val_accuracy: 0.5922\n",
      "Epoch 16/50\n",
      "179/179 [==============================] - 4s 23ms/step - loss: 0.6662 - accuracy: 0.6162 - val_loss: 0.6703 - val_accuracy: 0.6059\n",
      "Epoch 17/50\n",
      "179/179 [==============================] - 4s 22ms/step - loss: 0.6603 - accuracy: 0.6244 - val_loss: 0.6662 - val_accuracy: 0.6108\n",
      "Epoch 18/50\n",
      "179/179 [==============================] - 4s 22ms/step - loss: 0.6415 - accuracy: 0.6456 - val_loss: 0.6293 - val_accuracy: 0.6625\n",
      "Epoch 19/50\n",
      "179/179 [==============================] - 4s 23ms/step - loss: 0.5606 - accuracy: 0.7242 - val_loss: 0.5213 - val_accuracy: 0.7356\n",
      "Epoch 20/50\n",
      "179/179 [==============================] - 4s 25ms/step - loss: 0.4879 - accuracy: 0.7698 - val_loss: 0.4973 - val_accuracy: 0.7535\n",
      "Epoch 21/50\n",
      "179/179 [==============================] - 4s 23ms/step - loss: 0.4409 - accuracy: 0.7957 - val_loss: 0.5101 - val_accuracy: 0.7550\n",
      "Epoch 22/50\n",
      "179/179 [==============================] - 4s 24ms/step - loss: 0.4186 - accuracy: 0.8078 - val_loss: 0.4772 - val_accuracy: 0.7658\n",
      "Epoch 23/50\n",
      "179/179 [==============================] - 4s 24ms/step - loss: 0.4026 - accuracy: 0.8166 - val_loss: 0.4728 - val_accuracy: 0.7692\n",
      "Epoch 24/50\n",
      "179/179 [==============================] - 5s 25ms/step - loss: 0.3921 - accuracy: 0.8221 - val_loss: 0.5041 - val_accuracy: 0.7670\n",
      "Epoch 25/50\n",
      "179/179 [==============================] - 4s 24ms/step - loss: 0.3832 - accuracy: 0.8261 - val_loss: 0.4725 - val_accuracy: 0.7736\n",
      "Epoch 26/50\n",
      "179/179 [==============================] - 5s 26ms/step - loss: 0.3776 - accuracy: 0.8294 - val_loss: 0.4773 - val_accuracy: 0.7697\n",
      "Epoch 27/50\n",
      "179/179 [==============================] - 5s 27ms/step - loss: 0.3673 - accuracy: 0.8345 - val_loss: 0.4796 - val_accuracy: 0.7690\n",
      "Epoch 28/50\n",
      "179/179 [==============================] - 4s 24ms/step - loss: 0.3572 - accuracy: 0.8394 - val_loss: 0.4709 - val_accuracy: 0.7749\n",
      "Epoch 29/50\n",
      "179/179 [==============================] - 5s 25ms/step - loss: 0.3580 - accuracy: 0.8382 - val_loss: 0.4769 - val_accuracy: 0.7750\n",
      "Epoch 30/50\n",
      "179/179 [==============================] - 4s 24ms/step - loss: 0.3440 - accuracy: 0.8485 - val_loss: 0.4983 - val_accuracy: 0.7707\n",
      "Epoch 31/50\n",
      "179/179 [==============================] - 4s 25ms/step - loss: 0.3336 - accuracy: 0.8534 - val_loss: 0.4933 - val_accuracy: 0.7696\n",
      "Epoch 32/50\n",
      "179/179 [==============================] - 4s 24ms/step - loss: 0.3284 - accuracy: 0.8554 - val_loss: 0.4848 - val_accuracy: 0.7764\n",
      "Epoch 33/50\n",
      "179/179 [==============================] - 4s 21ms/step - loss: 0.3198 - accuracy: 0.8593 - val_loss: 0.4902 - val_accuracy: 0.7708\n",
      "Epoch 34/50\n",
      "179/179 [==============================] - 5s 26ms/step - loss: 0.3114 - accuracy: 0.8659 - val_loss: 0.5113 - val_accuracy: 0.7709\n",
      "Epoch 35/50\n",
      "179/179 [==============================] - 4s 21ms/step - loss: 0.2999 - accuracy: 0.8703 - val_loss: 0.5414 - val_accuracy: 0.7705\n",
      "Epoch 36/50\n",
      "179/179 [==============================] - 4s 21ms/step - loss: 0.2927 - accuracy: 0.8727 - val_loss: 0.5102 - val_accuracy: 0.7748\n",
      "Epoch 37/50\n",
      "179/179 [==============================] - 4s 23ms/step - loss: 0.2831 - accuracy: 0.8796 - val_loss: 0.5254 - val_accuracy: 0.7718\n",
      "Epoch 38/50\n",
      "179/179 [==============================] - 4s 21ms/step - loss: 0.2742 - accuracy: 0.8837 - val_loss: 0.5336 - val_accuracy: 0.7683\n",
      "Epoch 39/50\n",
      "179/179 [==============================] - 4s 23ms/step - loss: 0.2650 - accuracy: 0.8873 - val_loss: 0.5521 - val_accuracy: 0.7677\n",
      "Epoch 40/50\n",
      "179/179 [==============================] - 4s 21ms/step - loss: 0.2573 - accuracy: 0.8926 - val_loss: 0.5842 - val_accuracy: 0.7671\n",
      "Epoch 41/50\n",
      "179/179 [==============================] - 4s 21ms/step - loss: 0.2507 - accuracy: 0.8947 - val_loss: 0.5901 - val_accuracy: 0.7708\n",
      "Epoch 42/50\n",
      "179/179 [==============================] - 5s 26ms/step - loss: 0.2394 - accuracy: 0.8997 - val_loss: 0.5676 - val_accuracy: 0.7748\n",
      "Epoch 43/50\n",
      "179/179 [==============================] - 4s 22ms/step - loss: 0.2330 - accuracy: 0.9038 - val_loss: 0.5863 - val_accuracy: 0.7688\n",
      "Epoch 44/50\n",
      "179/179 [==============================] - 4s 22ms/step - loss: 0.2236 - accuracy: 0.9092 - val_loss: 0.6200 - val_accuracy: 0.7651\n",
      "Epoch 45/50\n",
      "179/179 [==============================] - 4s 23ms/step - loss: 0.2165 - accuracy: 0.9127 - val_loss: 0.6129 - val_accuracy: 0.7695\n",
      "Epoch 46/50\n",
      "179/179 [==============================] - 4s 23ms/step - loss: 0.2078 - accuracy: 0.9154 - val_loss: 0.6660 - val_accuracy: 0.7688\n",
      "Epoch 47/50\n",
      "179/179 [==============================] - 5s 26ms/step - loss: 0.2051 - accuracy: 0.9180 - val_loss: 0.6575 - val_accuracy: 0.7662\n",
      "Epoch 48/50\n",
      "179/179 [==============================] - 4s 24ms/step - loss: 0.1969 - accuracy: 0.9208 - val_loss: 0.6800 - val_accuracy: 0.7661\n",
      "Epoch 49/50\n",
      "179/179 [==============================] - 4s 24ms/step - loss: 0.1913 - accuracy: 0.9239 - val_loss: 0.6764 - val_accuracy: 0.7650\n",
      "Epoch 50/50\n",
      "179/179 [==============================] - 5s 29ms/step - loss: 0.1837 - accuracy: 0.9281 - val_loss: 0.6568 - val_accuracy: 0.7690\n"
     ]
    }
   ],
   "source": [
    "history2 = model2.fit(X_train, y_train, batch_size=128, epochs=50, verbose=1, validation_data=(X_val, y_val))"
   ]
  },
  {
   "cell_type": "markdown",
   "metadata": {},
   "source": [
    "### Predict on test set"
   ]
  },
  {
   "cell_type": "code",
   "execution_count": 25,
   "metadata": {
    "execution": {
     "iopub.execute_input": "2023-02-13T04:24:31.896939Z",
     "iopub.status.busy": "2023-02-13T04:24:31.896597Z",
     "iopub.status.idle": "2023-02-13T04:24:33.533778Z",
     "shell.execute_reply": "2023-02-13T04:24:33.532598Z",
     "shell.execute_reply.started": "2023-02-13T04:24:31.896883Z"
    }
   },
   "outputs": [
    {
     "name": "stdout",
     "output_type": "stream",
     "text": [
      "test auc: 0.758191954221981\n"
     ]
    }
   ],
   "source": [
    "from sklearn.metrics import roc_auc_score, accuracy_score\n",
    "\n",
    "output_test = model2.predict(X_test)\n",
    "print(\"test auc:\", roc_auc_score(y_test,output_test[:,1])) #76%"
   ]
  },
  {
   "cell_type": "markdown",
   "metadata": {},
   "source": [
    "### Check Loss and accuracy of Train and validation sets"
   ]
  },
  {
   "cell_type": "code",
   "execution_count": 26,
   "metadata": {
    "execution": {
     "iopub.execute_input": "2023-02-13T04:24:33.535817Z",
     "iopub.status.busy": "2023-02-13T04:24:33.535234Z",
     "iopub.status.idle": "2023-02-13T04:24:33.763976Z",
     "shell.execute_reply": "2023-02-13T04:24:33.762909Z",
     "shell.execute_reply.started": "2023-02-13T04:24:33.535776Z"
    }
   },
   "outputs": [
    {
     "data": {
      "image/png": "[encoded data removed]",
      "text/plain": [
       "<Figure size 432x288 with 1 Axes>"
      ]
     },
     "metadata": {
      "needs_background": "light"
     },
     "output_type": "display_data"
    }
   ],
   "source": [
    "plt.subplots()\n",
    "plt.plot(history2.history['accuracy'])\n",
    "plt.plot(history2.history['val_accuracy'])\n",
    "plt.title('model accuracy')\n",
    "plt.ylabel('accuracy')\n",
    "plt.xlabel('epoch')\n",
    "plt.legend(['train', 'validation'])\n",
    "plt.show()"
   ]
  },
  {
   "cell_type": "code",
   "execution_count": 27,
   "metadata": {
    "execution": {
     "iopub.execute_input": "2023-02-13T04:24:33.766214Z",
     "iopub.status.busy": "2023-02-13T04:24:33.765772Z",
     "iopub.status.idle": "2023-02-13T04:24:33.988058Z",
     "shell.execute_reply": "2023-02-13T04:24:33.986939Z",
     "shell.execute_reply.started": "2023-02-13T04:24:33.766173Z"
    }
   },
   "outputs": [
    {
     "data": {
      "image/png": "[encoded data removed]",
      "text/plain": [
       "<Figure size 432x288 with 1 Axes>"
      ]
     },
     "metadata": {
      "needs_background": "light"
     },
     "output_type": "display_data"
    }
   ],
   "source": [
    "plt.subplots() \n",
    "plt.plot(history2.history['loss'])\n",
    "plt.plot(history2.history['val_loss'])\n",
    "plt.title('model loss')\n",
    "plt.ylabel('loss')\n",
    "plt.xlabel('epoch')\n",
    "plt.legend(['train', 'validation'])\n",
    "plt.show()"
   ]
  },
  {
   "cell_type": "markdown",
   "metadata": {
    "execution": {
     "iopub.execute_input": "2023-02-12T17:55:28.678966Z",
     "iopub.status.busy": "2023-02-12T17:55:28.678477Z",
     "iopub.status.idle": "2023-02-12T17:55:28.685202Z",
     "shell.execute_reply": "2023-02-12T17:55:28.683803Z",
     "shell.execute_reply.started": "2023-02-12T17:55:28.678924Z"
    }
   },
   "source": [
    "##### After using Glove embedding, we get a test accuracy of 75%. Model is still overfitting after using glove embedding. Also increasing number of epochs wasn't helpful."
   ]
  },
  {
   "cell_type": "markdown",
   "metadata": {},
   "source": [
    "## Model 3: Using Dropout layer to reduce overfitting (with GloVe Embedding)"
   ]
  },
  {
   "cell_type": "markdown",
   "metadata": {},
   "source": [
    "### Model Architecture"
   ]
  },
  {
   "cell_type": "code",
   "execution_count": 28,
   "metadata": {
    "execution": {
     "iopub.execute_input": "2023-02-13T04:24:33.990763Z",
     "iopub.status.busy": "2023-02-13T04:24:33.989858Z",
     "iopub.status.idle": "2023-02-13T04:24:34.446963Z",
     "shell.execute_reply": "2023-02-13T04:24:34.445871Z",
     "shell.execute_reply.started": "2023-02-13T04:24:33.990716Z"
    }
   },
   "outputs": [],
   "source": [
    "model3 = Sequential()\n",
    "embedding_layer = Embedding(vocab_size, 50, weights=[embedding_matrix], input_length=maxlen , trainable=False)\n",
    "model3.add(embedding_layer)\n",
    "model3.add(Dropout(0.3))\n",
    "model3.add(LSTM(64,return_sequences=True))\n",
    "model3.add(LSTM(64,return_sequences=True))\n",
    "model3.add(Dense(1, activation='sigmoid'))"
   ]
  },
  {
   "cell_type": "markdown",
   "metadata": {},
   "source": [
    "### Compile the Model "
   ]
  },
  {
   "cell_type": "code",
   "execution_count": 29,
   "metadata": {
    "execution": {
     "iopub.execute_input": "2023-02-13T04:24:34.448794Z",
     "iopub.status.busy": "2023-02-13T04:24:34.448409Z",
     "iopub.status.idle": "2023-02-13T04:24:34.466214Z",
     "shell.execute_reply": "2023-02-13T04:24:34.464974Z",
     "shell.execute_reply.started": "2023-02-13T04:24:34.448755Z"
    }
   },
   "outputs": [
    {
     "name": "stdout",
     "output_type": "stream",
     "text": [
      "Model: \"sequential_2\"\n",
      "_________________________________________________________________\n",
      "Layer (type)                 Output Shape              Param #   \n",
      "=================================================================\n",
      "embedding_2 (Embedding)      (None, 150, 50)           1286750   \n",
      "_________________________________________________________________\n",
      "dropout (Dropout)            (None, 150, 50)           0         \n",
      "_________________________________________________________________\n",
      "lstm_4 (LSTM)                (None, 150, 64)           29440     \n",
      "_________________________________________________________________\n",
      "lstm_5 (LSTM)                (None, 150, 64)           33024     \n",
      "_________________________________________________________________\n",
      "dense_2 (Dense)              (None, 150, 1)            65        \n",
      "=================================================================\n",
      "Total params: 1,349,279\n",
      "Trainable params: 62,529\n",
      "Non-trainable params: 1,286,750\n",
      "_________________________________________________________________\n",
      "None\n"
     ]
    }
   ],
   "source": [
    "model3.compile(optimizer='nadam', loss='binary_crossentropy', metrics=['accuracy'])\n",
    "\n",
    "print(model3.summary())"
   ]
  },
  {
   "cell_type": "markdown",
   "metadata": {},
   "source": [
    "### Model Training"
   ]
  },
  {
   "cell_type": "code",
   "execution_count": 30,
   "metadata": {
    "execution": {
     "iopub.execute_input": "2023-02-13T04:24:34.468444Z",
     "iopub.status.busy": "2023-02-13T04:24:34.467785Z",
     "iopub.status.idle": "2023-02-13T04:25:59.293832Z",
     "shell.execute_reply": "2023-02-13T04:25:59.292713Z",
     "shell.execute_reply.started": "2023-02-13T04:24:34.468402Z"
    },
    "scrolled": true
   },
   "outputs": [
    {
     "name": "stdout",
     "output_type": "stream",
     "text": [
      "Epoch 1/10\n",
      "179/179 [==============================] - 8s 30ms/step - loss: 0.6507 - accuracy: 0.6213 - val_loss: 0.6151 - val_accuracy: 0.6838\n",
      "Epoch 2/10\n",
      "179/179 [==============================] - 4s 24ms/step - loss: 0.6131 - accuracy: 0.6678 - val_loss: 0.5645 - val_accuracy: 0.7085\n",
      "Epoch 3/10\n",
      "179/179 [==============================] - 5s 26ms/step - loss: 0.5803 - accuracy: 0.7013 - val_loss: 0.5439 - val_accuracy: 0.7257\n",
      "Epoch 4/10\n",
      "179/179 [==============================] - 4s 24ms/step - loss: 0.5651 - accuracy: 0.7124 - val_loss: 0.5257 - val_accuracy: 0.7420\n",
      "Epoch 5/10\n",
      "179/179 [==============================] - 5s 28ms/step - loss: 0.5623 - accuracy: 0.7133 - val_loss: 0.5505 - val_accuracy: 0.7149\n",
      "Epoch 6/10\n",
      "179/179 [==============================] - 5s 26ms/step - loss: 0.5521 - accuracy: 0.7177 - val_loss: 0.5293 - val_accuracy: 0.7399\n",
      "Epoch 7/10\n",
      "179/179 [==============================] - 4s 24ms/step - loss: 0.5444 - accuracy: 0.7214 - val_loss: 0.5162 - val_accuracy: 0.7473\n",
      "Epoch 8/10\n",
      "179/179 [==============================] - 5s 25ms/step - loss: 0.5303 - accuracy: 0.7313 - val_loss: 0.5280 - val_accuracy: 0.7196\n",
      "Epoch 9/10\n",
      "179/179 [==============================] - 4s 24ms/step - loss: 0.5284 - accuracy: 0.7327 - val_loss: 0.5209 - val_accuracy: 0.7413\n",
      "Epoch 10/10\n",
      "179/179 [==============================] - 4s 24ms/step - loss: 0.5179 - accuracy: 0.7421 - val_loss: 0.4892 - val_accuracy: 0.7576\n"
     ]
    }
   ],
   "source": [
    "history3 = model3.fit(X_train, y_train, batch_size=128, epochs=10, verbose=1, validation_data=(X_val, y_val))"
   ]
  },
  {
   "cell_type": "markdown",
   "metadata": {},
   "source": [
    "### Predicting on Test set"
   ]
  },
  {
   "cell_type": "code",
   "execution_count": 31,
   "metadata": {
    "execution": {
     "iopub.execute_input": "2023-02-13T04:25:59.296204Z",
     "iopub.status.busy": "2023-02-13T04:25:59.295602Z",
     "iopub.status.idle": "2023-02-13T04:26:00.937106Z",
     "shell.execute_reply": "2023-02-13T04:26:00.935912Z",
     "shell.execute_reply.started": "2023-02-13T04:25:59.296173Z"
    }
   },
   "outputs": [
    {
     "name": "stdout",
     "output_type": "stream",
     "text": [
      "test auc: 0.7287361187664062\n"
     ]
    }
   ],
   "source": [
    "from sklearn.metrics import roc_auc_score, accuracy_score\n",
    "\n",
    "output_test = model3.predict(X_test)\n",
    "print(\"test auc:\", roc_auc_score(y_test,output_test[:,1])) #73%"
   ]
  },
  {
   "cell_type": "markdown",
   "metadata": {},
   "source": [
    "### Check Loss and accuracy of Train and validation set"
   ]
  },
  {
   "cell_type": "code",
   "execution_count": 32,
   "metadata": {
    "execution": {
     "iopub.execute_input": "2023-02-13T04:26:00.939673Z",
     "iopub.status.busy": "2023-02-13T04:26:00.938958Z",
     "iopub.status.idle": "2023-02-13T04:26:01.157895Z",
     "shell.execute_reply": "2023-02-13T04:26:01.156806Z",
     "shell.execute_reply.started": "2023-02-13T04:26:00.939633Z"
    }
   },
   "outputs": [
    {
     "data": {
      "image/png": "[encoded data removed]",
      "text/plain": [
       "<Figure size 432x288 with 1 Axes>"
      ]
     },
     "metadata": {
      "needs_background": "light"
     },
     "output_type": "display_data"
    }
   ],
   "source": [
    "plt.subplots()\n",
    "plt.plot(history3.history['accuracy'])\n",
    "plt.plot(history3.history['val_accuracy'])\n",
    "plt.title('model accuracy')\n",
    "plt.ylabel('accuracy')\n",
    "plt.xlabel('epoch')\n",
    "plt.legend(['train', 'validation'])\n",
    "plt.show()"
   ]
  },
  {
   "cell_type": "code",
   "execution_count": 33,
   "metadata": {
    "execution": {
     "iopub.execute_input": "2023-02-13T04:26:01.159892Z",
     "iopub.status.busy": "2023-02-13T04:26:01.159251Z",
     "iopub.status.idle": "2023-02-13T04:26:01.372301Z",
     "shell.execute_reply": "2023-02-13T04:26:01.371437Z",
     "shell.execute_reply.started": "2023-02-13T04:26:01.159854Z"
    }
   },
   "outputs": [
    {
     "data": {
      "image/png": "[encoded data removed]",
      "text/plain": [
       "<Figure size 432x288 with 1 Axes>"
      ]
     },
     "metadata": {
      "needs_background": "light"
     },
     "output_type": "display_data"
    }
   ],
   "source": [
    "plt.subplots() \n",
    "plt.plot(history3.history['loss'])\n",
    "plt.plot(history3.history['val_loss'])\n",
    "plt.title('model loss')\n",
    "plt.ylabel('loss')\n",
    "plt.xlabel('epoch')\n",
    "plt.legend(['train', 'validation'])\n",
    "plt.show()"
   ]
  },
  {
   "cell_type": "markdown",
   "metadata": {},
   "source": [
    "##### We get a test accuracy of 65%, our model needs some better approach for reducing overfitting"
   ]
  },
  {
   "cell_type": "markdown",
   "metadata": {},
   "source": [
    "## Model4: Using Adam optimizer, Dropout layer and GRU with GloVe Embedding"
   ]
  },
  {
   "cell_type": "markdown",
   "metadata": {},
   "source": [
    "### Model Architecture"
   ]
  },
  {
   "cell_type": "code",
   "execution_count": 34,
   "metadata": {
    "execution": {
     "iopub.execute_input": "2023-02-13T04:26:01.374177Z",
     "iopub.status.busy": "2023-02-13T04:26:01.373526Z",
     "iopub.status.idle": "2023-02-13T04:26:01.590580Z",
     "shell.execute_reply": "2023-02-13T04:26:01.589583Z",
     "shell.execute_reply.started": "2023-02-13T04:26:01.374138Z"
    }
   },
   "outputs": [],
   "source": [
    "model4 = Sequential()\n",
    "embedding_layer = Embedding(vocab_size, 50, weights=[embedding_matrix], input_length=maxlen , trainable=False)\n",
    "model4.add(embedding_layer)\n",
    "model4.add(GRU(128,return_sequences=True))\n",
    "model4.add(Dropout(0.3))\n",
    "model4.add(Dense(1, activation='sigmoid'))"
   ]
  },
  {
   "cell_type": "markdown",
   "metadata": {},
   "source": [
    "### Compile the model"
   ]
  },
  {
   "cell_type": "code",
   "execution_count": 35,
   "metadata": {
    "execution": {
     "iopub.execute_input": "2023-02-13T04:26:01.592639Z",
     "iopub.status.busy": "2023-02-13T04:26:01.592248Z",
     "iopub.status.idle": "2023-02-13T04:26:01.606426Z",
     "shell.execute_reply": "2023-02-13T04:26:01.605192Z",
     "shell.execute_reply.started": "2023-02-13T04:26:01.592600Z"
    }
   },
   "outputs": [
    {
     "name": "stdout",
     "output_type": "stream",
     "text": [
      "Model: \"sequential_3\"\n",
      "_________________________________________________________________\n",
      "Layer (type)                 Output Shape              Param #   \n",
      "=================================================================\n",
      "embedding_3 (Embedding)      (None, 150, 50)           1286750   \n",
      "_________________________________________________________________\n",
      "gru (GRU)                    (None, 150, 128)          69120     \n",
      "_________________________________________________________________\n",
      "dropout_1 (Dropout)          (None, 150, 128)          0         \n",
      "_________________________________________________________________\n",
      "dense_3 (Dense)              (None, 150, 1)            129       \n",
      "=================================================================\n",
      "Total params: 1,355,999\n",
      "Trainable params: 69,249\n",
      "Non-trainable params: 1,286,750\n",
      "_________________________________________________________________\n",
      "None\n"
     ]
    }
   ],
   "source": [
    "model4.compile(optimizer='adam', loss='binary_crossentropy', metrics=['accuracy'])\n",
    "\n",
    "print(model4.summary())"
   ]
  },
  {
   "cell_type": "markdown",
   "metadata": {},
   "source": [
    "### Model Training"
   ]
  },
  {
   "cell_type": "code",
   "execution_count": 36,
   "metadata": {
    "execution": {
     "iopub.execute_input": "2023-02-13T04:26:01.608693Z",
     "iopub.status.busy": "2023-02-13T04:26:01.608172Z",
     "iopub.status.idle": "2023-02-13T04:26:18.345923Z",
     "shell.execute_reply": "2023-02-13T04:26:18.344956Z",
     "shell.execute_reply.started": "2023-02-13T04:26:01.608604Z"
    },
    "scrolled": true
   },
   "outputs": [
    {
     "name": "stdout",
     "output_type": "stream",
     "text": [
      "Epoch 1/6\n",
      "179/179 [==============================] - 5s 15ms/step - loss: 0.6637 - accuracy: 0.5883 - val_loss: 0.5946 - val_accuracy: 0.6824\n",
      "Epoch 2/6\n",
      "179/179 [==============================] - 3s 14ms/step - loss: 0.5862 - accuracy: 0.6962 - val_loss: 0.5521 - val_accuracy: 0.7188\n",
      "Epoch 3/6\n",
      "179/179 [==============================] - 2s 13ms/step - loss: 0.5431 - accuracy: 0.7255 - val_loss: 0.5519 - val_accuracy: 0.7192\n",
      "Epoch 4/6\n",
      "179/179 [==============================] - 2s 13ms/step - loss: 0.5078 - accuracy: 0.7489 - val_loss: 0.4983 - val_accuracy: 0.7514\n",
      "Epoch 5/6\n",
      "179/179 [==============================] - 2s 13ms/step - loss: 0.4829 - accuracy: 0.7629 - val_loss: 0.5013 - val_accuracy: 0.7501\n",
      "Epoch 6/6\n",
      "179/179 [==============================] - 2s 13ms/step - loss: 0.4647 - accuracy: 0.7735 - val_loss: 0.4769 - val_accuracy: 0.7702\n"
     ]
    }
   ],
   "source": [
    "history4 = model4.fit(X_train, y_train, batch_size=128, epochs=6, verbose=1, validation_data=(X_val, y_val))"
   ]
  },
  {
   "cell_type": "markdown",
   "metadata": {},
   "source": [
    "### Predicting on Test set"
   ]
  },
  {
   "cell_type": "code",
   "execution_count": 37,
   "metadata": {
    "execution": {
     "iopub.execute_input": "2023-02-13T04:26:18.347869Z",
     "iopub.status.busy": "2023-02-13T04:26:18.347439Z",
     "iopub.status.idle": "2023-02-13T04:26:19.417125Z",
     "shell.execute_reply": "2023-02-13T04:26:19.415919Z",
     "shell.execute_reply.started": "2023-02-13T04:26:18.347828Z"
    }
   },
   "outputs": [
    {
     "name": "stdout",
     "output_type": "stream",
     "text": [
      "test auc: 0.7257013184916109\n"
     ]
    }
   ],
   "source": [
    "from sklearn.metrics import roc_auc_score, accuracy_score\n",
    "\n",
    "output_test = model4.predict(X_test)\n",
    "print(\"test auc:\", roc_auc_score(y_test,output_test[:,1])) #72%"
   ]
  },
  {
   "cell_type": "code",
   "execution_count": 38,
   "metadata": {
    "execution": {
     "iopub.execute_input": "2023-02-13T04:26:19.419353Z",
     "iopub.status.busy": "2023-02-13T04:26:19.418895Z",
     "iopub.status.idle": "2023-02-13T04:26:19.645000Z",
     "shell.execute_reply": "2023-02-13T04:26:19.643856Z",
     "shell.execute_reply.started": "2023-02-13T04:26:19.419314Z"
    }
   },
   "outputs": [
    {
     "data": {
      "image/png": "[encoded data removed]",
      "text/plain": [
       "<Figure size 432x288 with 1 Axes>"
      ]
     },
     "metadata": {
      "needs_background": "light"
     },
     "output_type": "display_data"
    }
   ],
   "source": [
    "plt.subplots()\n",
    "plt.plot(history4.history['accuracy'])\n",
    "plt.plot(history4.history['val_accuracy'])\n",
    "plt.title('model accuracy')\n",
    "plt.ylabel('accuracy')\n",
    "plt.xlabel('epoch')\n",
    "plt.legend(['train', 'validation'])\n",
    "plt.show()"
   ]
  },
  {
   "cell_type": "code",
   "execution_count": 39,
   "metadata": {
    "execution": {
     "iopub.execute_input": "2023-02-13T04:26:19.647577Z",
     "iopub.status.busy": "2023-02-13T04:26:19.646889Z",
     "iopub.status.idle": "2023-02-13T04:26:19.871777Z",
     "shell.execute_reply": "2023-02-13T04:26:19.870880Z",
     "shell.execute_reply.started": "2023-02-13T04:26:19.647539Z"
    }
   },
   "outputs": [
    {
     "data": {
      "image/png": "[encoded data removed]",
      "text/plain": [
       "<Figure size 432x288 with 1 Axes>"
      ]
     },
     "metadata": {
      "needs_background": "light"
     },
     "output_type": "display_data"
    }
   ],
   "source": [
    "plt.subplots() \n",
    "plt.plot(history4.history['loss'])\n",
    "plt.plot(history4.history['val_loss'])\n",
    "plt.title('model loss')\n",
    "plt.ylabel('loss')\n",
    "plt.xlabel('epoch')\n",
    "plt.legend(['train', 'validation'])\n",
    "plt.show()"
   ]
  },
  {
   "cell_type": "markdown",
   "metadata": {},
   "source": [
    "##### Our test set gives accuracy of 72% which is still less but we can see that model performs better (less overfitted). This might be because of using GRU instead of using LSTM."
   ]
  },
  {
   "cell_type": "markdown",
   "metadata": {},
   "source": [
    "## Model5: Using Adam optimizer, GRU with Word2Vec Embedding"
   ]
  },
  {
   "cell_type": "markdown",
   "metadata": {},
   "source": [
    "#### Converting text to format acceptable by gensim"
   ]
  },
  {
   "cell_type": "code",
   "execution_count": 40,
   "metadata": {
    "execution": {
     "iopub.execute_input": "2023-02-13T04:26:19.878683Z",
     "iopub.status.busy": "2023-02-13T04:26:19.878389Z",
     "iopub.status.idle": "2023-02-13T04:26:24.660197Z",
     "shell.execute_reply": "2023-02-13T04:26:24.659197Z",
     "shell.execute_reply.started": "2023-02-13T04:26:19.878655Z"
    }
   },
   "outputs": [],
   "source": [
    "words = []\n",
    "for i in df.headline.values:\n",
    "    words.append(i.split())\n",
    "words[:5]\n",
    "\n",
    "import gensim\n",
    "\n",
    "w2v_model = gensim.models.Word2Vec(sentences = words , vector_size=150 , window = 5 , min_count = 1)\n",
    "\n",
    "tokenizer = text.Tokenizer(num_words=30000)\n",
    "tokenizer.fit_on_texts(words)\n",
    "tokenized_train = tokenizer.texts_to_sequences(words)\n",
    "x = sequence.pad_sequences(tokenized_train, maxlen = 20)\n",
    "\n",
    "vocab_size = len(tokenizer.word_index) + 1"
   ]
  },
  {
   "cell_type": "code",
   "execution_count": 41,
   "metadata": {
    "execution": {
     "iopub.execute_input": "2023-02-13T04:26:24.662293Z",
     "iopub.status.busy": "2023-02-13T04:26:24.661845Z",
     "iopub.status.idle": "2023-02-13T04:26:24.671245Z",
     "shell.execute_reply": "2023-02-13T04:26:24.670291Z",
     "shell.execute_reply.started": "2023-02-13T04:26:24.662252Z"
    }
   },
   "outputs": [],
   "source": [
    "# Function to create weight matrix from word2vec gensim model\n",
    "def get_weight_matrix(model, vocab):\n",
    "    vocab_size = len(vocab) + 1\n",
    "    weight_matrix = np.zeros((vocab_size, 150))\n",
    "    for word, i in vocab.items():\n",
    "        weight_matrix[i] = model.wv[word]\n",
    "    return weight_matrix\n"
   ]
  },
  {
   "cell_type": "code",
   "execution_count": 42,
   "metadata": {
    "execution": {
     "iopub.execute_input": "2023-02-13T04:26:24.672989Z",
     "iopub.status.busy": "2023-02-13T04:26:24.672585Z",
     "iopub.status.idle": "2023-02-13T04:26:24.796157Z",
     "shell.execute_reply": "2023-02-13T04:26:24.795160Z",
     "shell.execute_reply.started": "2023-02-13T04:26:24.672948Z"
    }
   },
   "outputs": [],
   "source": [
    "embedding_vectors = get_weight_matrix(w2v_model, tokenizer.word_index)"
   ]
  },
  {
   "cell_type": "code",
   "execution_count": 43,
   "metadata": {
    "execution": {
     "iopub.execute_input": "2023-02-13T04:26:24.798473Z",
     "iopub.status.busy": "2023-02-13T04:26:24.797632Z",
     "iopub.status.idle": "2023-02-13T04:26:25.024380Z",
     "shell.execute_reply": "2023-02-13T04:26:25.023283Z",
     "shell.execute_reply.started": "2023-02-13T04:26:24.798427Z"
    }
   },
   "outputs": [],
   "source": [
    "model5 = Sequential()\n",
    "embedding_layer = Embedding(vocab_size, 150, weights=[embedding_vectors], input_length=maxlen , trainable=True)\n",
    "model5.add(embedding_layer)\n",
    "model5.add(GRU(128,return_sequences=True))\n",
    "model5.add(Dropout(0.3))\n",
    "model5.add(Dense(1, activation='sigmoid'))"
   ]
  },
  {
   "cell_type": "code",
   "execution_count": 44,
   "metadata": {
    "execution": {
     "iopub.execute_input": "2023-02-13T04:26:25.026245Z",
     "iopub.status.busy": "2023-02-13T04:26:25.025831Z",
     "iopub.status.idle": "2023-02-13T04:26:25.040369Z",
     "shell.execute_reply": "2023-02-13T04:26:25.039136Z",
     "shell.execute_reply.started": "2023-02-13T04:26:25.026206Z"
    }
   },
   "outputs": [
    {
     "name": "stdout",
     "output_type": "stream",
     "text": [
      "Model: \"sequential_4\"\n",
      "_________________________________________________________________\n",
      "Layer (type)                 Output Shape              Param #   \n",
      "=================================================================\n",
      "embedding_4 (Embedding)      (None, 150, 150)          5735250   \n",
      "_________________________________________________________________\n",
      "gru_1 (GRU)                  (None, 150, 128)          107520    \n",
      "_________________________________________________________________\n",
      "dropout_2 (Dropout)          (None, 150, 128)          0         \n",
      "_________________________________________________________________\n",
      "dense_4 (Dense)              (None, 150, 1)            129       \n",
      "=================================================================\n",
      "Total params: 5,842,899\n",
      "Trainable params: 5,842,899\n",
      "Non-trainable params: 0\n",
      "_________________________________________________________________\n",
      "None\n"
     ]
    }
   ],
   "source": [
    "model5.compile(optimizer='adam', loss='binary_crossentropy', metrics=['accuracy'])\n",
    "print(model5.summary())"
   ]
  },
  {
   "cell_type": "code",
   "execution_count": 45,
   "metadata": {
    "execution": {
     "iopub.execute_input": "2023-02-13T04:26:25.042594Z",
     "iopub.status.busy": "2023-02-13T04:26:25.041818Z",
     "iopub.status.idle": "2023-02-13T04:26:46.073165Z",
     "shell.execute_reply": "2023-02-13T04:26:46.071875Z",
     "shell.execute_reply.started": "2023-02-13T04:26:25.042557Z"
    }
   },
   "outputs": [
    {
     "name": "stdout",
     "output_type": "stream",
     "text": [
      "Epoch 1/6\n",
      "179/179 [==============================] - 5s 21ms/step - loss: 0.6915 - accuracy: 0.5233 - val_loss: 0.6911 - val_accuracy: 0.5303\n",
      "Epoch 2/6\n",
      "179/179 [==============================] - 3s 17ms/step - loss: 0.6873 - accuracy: 0.5416 - val_loss: 0.6859 - val_accuracy: 0.5424\n",
      "Epoch 3/6\n",
      "179/179 [==============================] - 3s 19ms/step - loss: 0.5696 - accuracy: 0.6707 - val_loss: 0.4576 - val_accuracy: 0.7845\n",
      "Epoch 4/6\n",
      "179/179 [==============================] - 3s 17ms/step - loss: 0.3607 - accuracy: 0.8425 - val_loss: 0.4381 - val_accuracy: 0.7958\n",
      "Epoch 5/6\n",
      "179/179 [==============================] - 3s 18ms/step - loss: 0.3062 - accuracy: 0.8714 - val_loss: 0.4708 - val_accuracy: 0.7884\n",
      "Epoch 6/6\n",
      "179/179 [==============================] - 3s 17ms/step - loss: 0.2682 - accuracy: 0.8901 - val_loss: 0.4930 - val_accuracy: 0.7923\n"
     ]
    }
   ],
   "source": [
    "history5 = model5.fit(X_train, y_train, batch_size=128, epochs=6, verbose=1, validation_data=(X_val, y_val))"
   ]
  },
  {
   "cell_type": "code",
   "execution_count": 46,
   "metadata": {
    "execution": {
     "iopub.execute_input": "2023-02-13T04:26:46.077084Z",
     "iopub.status.busy": "2023-02-13T04:26:46.076759Z",
     "iopub.status.idle": "2023-02-13T04:26:47.629964Z",
     "shell.execute_reply": "2023-02-13T04:26:47.628882Z",
     "shell.execute_reply.started": "2023-02-13T04:26:46.077054Z"
    }
   },
   "outputs": [
    {
     "name": "stdout",
     "output_type": "stream",
     "text": [
      "test auc: 0.7846848081357043\n"
     ]
    }
   ],
   "source": [
    "output_test = model5.predict(X_test)\n",
    "print(\"test auc:\", roc_auc_score(y_test,output_test[:,1])) #78%"
   ]
  },
  {
   "cell_type": "code",
   "execution_count": 47,
   "metadata": {
    "execution": {
     "iopub.execute_input": "2023-02-13T04:26:47.632122Z",
     "iopub.status.busy": "2023-02-13T04:26:47.631717Z",
     "iopub.status.idle": "2023-02-13T04:26:47.852876Z",
     "shell.execute_reply": "2023-02-13T04:26:47.851815Z",
     "shell.execute_reply.started": "2023-02-13T04:26:47.632085Z"
    }
   },
   "outputs": [
    {
     "data": {
      "image/png": "[encoded data removed]",
      "text/plain": [
       "<Figure size 432x288 with 1 Axes>"
      ]
     },
     "metadata": {
      "needs_background": "light"
     },
     "output_type": "display_data"
    }
   ],
   "source": [
    "plt.subplots()\n",
    "plt.plot(history5.history['accuracy'])\n",
    "plt.plot(history5.history['val_accuracy'])\n",
    "plt.title('model accuracy')\n",
    "plt.ylabel('accuracy')\n",
    "plt.xlabel('epoch')\n",
    "plt.legend(['train', 'validation'])\n",
    "plt.show()\n"
   ]
  },
  {
   "cell_type": "code",
   "execution_count": 48,
   "metadata": {
    "execution": {
     "iopub.execute_input": "2023-02-13T04:26:47.856152Z",
     "iopub.status.busy": "2023-02-13T04:26:47.854385Z",
     "iopub.status.idle": "2023-02-13T04:26:48.062847Z",
     "shell.execute_reply": "2023-02-13T04:26:48.061913Z",
     "shell.execute_reply.started": "2023-02-13T04:26:47.856114Z"
    }
   },
   "outputs": [
    {
     "data": {
      "image/png": "[encoded data removed]",
      "text/plain": [
       "<Figure size 432x288 with 1 Axes>"
      ]
     },
     "metadata": {
      "needs_background": "light"
     },
     "output_type": "display_data"
    }
   ],
   "source": [
    "plt.subplots() \n",
    "plt.plot(history5.history['loss'])\n",
    "plt.plot(history5.history['val_loss'])\n",
    "plt.title('model loss')\n",
    "plt.ylabel('loss')\n",
    "plt.xlabel('epoch')\n",
    "plt.legend(['train', 'validation'])\n",
    "plt.show()"
   ]
  },
  {
   "cell_type": "code",
   "execution_count": null,
   "metadata": {},
   "outputs": [],
   "source": [
    "model.save('model5.h5')"
   ]
  },
  {
   "cell_type": "markdown",
   "metadata": {},
   "source": [
    "# Conclusion"
   ]
  },
  {
   "cell_type": "markdown",
   "metadata": {},
   "source": [
    "In the above notebook, the intent was to practise and implement various techniques for textual dataset and to eventually find out which technique performs well.<br>\n",
    "We used various notebooks(see references) as inspiration to start our research for embedding techniques in Natural Language Processing (NLP).<br> Combining our research with Neural Network Architectures with embeddings and then hyperparameter tuning, We found that in  Word2Vec embedding with a vector size of 150, trained over a 3 layered GRU neural network, provided adam optimizer with default learning rate(0.001), performs well out of all the other models that were tested with Glove embedding (50 dimension).<br> Our best model(model5) provides an accuracy of 77%. In terms of overfitting, model4 performed well, using GRU with GloVe. <br> We aim to improve this accuracy in future by trying other techniques such as Transformers. We also need to work on dealing with overfitting of training dataset by using methods such as Early Stopping and checkpoints. "
   ]
  },
  {
   "cell_type": "markdown",
   "metadata": {},
   "source": [
    "Inspired from notebooks:\n",
    "\n",
    "[1] https://www.kaggle.com/code/eliotbarr/text-classification-using-neural-networks\n",
    "<br>\n",
    "[2] https://www.kaggle.com/code/madz2000/sarcasm-detection-with-glove-word2vec-83-accuracy\n",
    "<br>\n",
    "[3] https://www.kaggle.com/code/atishadhikari/fake-news-cleaning-word2vec-lstm-99-accuracy"
   ]
  },
  {
   "cell_type": "markdown",
   "metadata": {},
   "source": [
    "**Authors of this notebook:**\n",
    "Murk Asad,\n",
    "Fairouz Sharif"
   ]
  }
 ],
 "metadata": {
  "kernelspec": {
   "display_name": "Python 3 (ipykernel)",
   "language": "python",
   "name": "python3"
  },
  "language_info": {
   "codemirror_mode": {
    "name": "ipython",
    "version": 3
   },
   "file_extension": ".py",
   "mimetype": "text/x-python",
   "name": "python",
   "nbconvert_exporter": "python",
   "pygments_lexer": "ipython3",
   "version": "3.9.13"
  }
 },
 "nbformat": 4,
 "nbformat_minor": 4
}
